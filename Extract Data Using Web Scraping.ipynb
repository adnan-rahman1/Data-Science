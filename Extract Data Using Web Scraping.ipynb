{
 "cells": [
  {
   "cell_type": "code",
   "execution_count": 12,
   "metadata": {
    "collapsed": true
   },
   "outputs": [],
   "source": [
    "import requests\n",
    "from bs4 import BeautifulSoup"
   ]
  },
  {
   "cell_type": "code",
   "execution_count": 13,
   "metadata": {
    "collapsed": false
   },
   "outputs": [],
   "source": [
    "html_string = \"\"\"\n",
    "<!doctype html>\n",
    "<html lang=\"en\">\n",
    "    <head>\n",
    "        <title>Doing Data Science With Python</title>\n",
    "    </head>\n",
    "    <body>\n",
    "        <h1 style=\"color:#f15b2a;\">Doing Data Science With Python</h1>\n",
    "        <div id=\"author\">Author : Adnan Rahman</div>\n",
    "        <div id=\"description\">Python helps you to perform various data science</div>\n",
    "\n",
    "        <h3 style=\"color:#404040\">Modules</h3>\n",
    "        <table id=\"module\" style=\"width:100%\">\n",
    "            <tr>\n",
    "                <th>Title</th>\n",
    "                <th>Duration (In Minutes)</th>\n",
    "            </tr>\n",
    "            <tr>\n",
    "                <td>Getting Started</td>\n",
    "                <td>20</td>\n",
    "            </tr>\n",
    "            <tr>\n",
    "                <td>Setting up the Environment</td>\n",
    "                <td>40</td>\n",
    "            </tr>\n",
    "            <tr>\n",
    "                <td>Extracting Data</td>\n",
    "                <td>35</td>\n",
    "            </tr>\n",
    "            <tr>\n",
    "                <td>Exploring and Processing Data - Part 1</td>\n",
    "                <td>45</td>\n",
    "            </tr>\n",
    "            <tr>\n",
    "                <td>Building Predictive Model</td>\n",
    "                <td>30</td>\n",
    "            </tr>\n",
    "        </table>\n",
    "    </body>\n",
    "</html>\n",
    "\"\"\""
   ]
  },
  {
   "cell_type": "code",
   "execution_count": 14,
   "metadata": {
    "collapsed": false
   },
   "outputs": [
    {
     "data": {
      "text/html": [
       "\n",
       "<!doctype html>\n",
       "<html lang=\"en\">\n",
       "    <head>\n",
       "        <title>Doing Data Science With Python</title>\n",
       "    </head>\n",
       "    <body>\n",
       "        <h1 style=\"color:#f15b2a;\">Doing Data Science With Python</h1>\n",
       "        <div id=\"author\">Author : Adnan Rahman</div>\n",
       "        <div id=\"description\">Python helps you to perform various data science</div>\n",
       "\n",
       "        <h3 style=\"color:#404040\">Modules</h3>\n",
       "        <table id=\"module\" style=\"width:100%\">\n",
       "            <tr>\n",
       "                <th>Title</th>\n",
       "                <th>Duration (In Minutes)</th>\n",
       "            </tr>\n",
       "            <tr>\n",
       "                <td>Getting Started</td>\n",
       "                <td>20</td>\n",
       "            </tr>\n",
       "            <tr>\n",
       "                <td>Setting up the Environment</td>\n",
       "                <td>40</td>\n",
       "            </tr>\n",
       "            <tr>\n",
       "                <td>Extracting Data</td>\n",
       "                <td>35</td>\n",
       "            </tr>\n",
       "            <tr>\n",
       "                <td>Exploring and Processing Data - Part 1</td>\n",
       "                <td>45</td>\n",
       "            </tr>\n",
       "            <tr>\n",
       "                <td>Building Predictive Model</td>\n",
       "                <td>30</td>\n",
       "            </tr>\n",
       "        </table>\n",
       "    </body>\n",
       "</html>\n"
      ],
      "text/plain": [
       "<IPython.core.display.HTML object>"
      ]
     },
     "metadata": {},
     "output_type": "display_data"
    }
   ],
   "source": [
    "from IPython.core.display import display, HTML\n",
    "display(HTML(html_string))"
   ]
  },
  {
   "cell_type": "code",
   "execution_count": 15,
   "metadata": {
    "collapsed": false
   },
   "outputs": [
    {
     "name": "stderr",
     "output_type": "stream",
     "text": [
      "C:\\Program Files\\Anaconda3\\lib\\site-packages\\bs4\\__init__.py:181: UserWarning: No parser was explicitly specified, so I'm using the best available HTML parser for this system (\"lxml\"). This usually isn't a problem, but if you run this code on another system, or in a different virtual environment, it may use a different parser and behave differently.\n",
      "\n",
      "The code that caused this warning is on line 193 of the file C:\\Program Files\\Anaconda3\\lib\\runpy.py. To get rid of this warning, change code that looks like this:\n",
      "\n",
      " BeautifulSoup([your markup])\n",
      "\n",
      "to this:\n",
      "\n",
      " BeautifulSoup([your markup], \"lxml\")\n",
      "\n",
      "  markup_type=markup_type))\n"
     ]
    }
   ],
   "source": [
    "# use beautifulsoup\n",
    "ps = BeautifulSoup(html_string)"
   ]
  },
  {
   "cell_type": "code",
   "execution_count": 16,
   "metadata": {
    "collapsed": false
   },
   "outputs": [
    {
     "name": "stdout",
     "output_type": "stream",
     "text": [
      "<!DOCTYPE html>\n",
      "<html lang=\"en\">\n",
      "<head>\n",
      "<title>Doing Data Science With Python</title>\n",
      "</head>\n",
      "<body>\n",
      "<h1 style=\"color:#f15b2a;\">Doing Data Science With Python</h1>\n",
      "<div id=\"author\">Author : Adnan Rahman</div>\n",
      "<div id=\"description\">Python helps you to perform various data science</div>\n",
      "<h3 style=\"color:#404040\">Modules</h3>\n",
      "<table id=\"module\" style=\"width:100%\">\n",
      "<tr>\n",
      "<th>Title</th>\n",
      "<th>Duration (In Minutes)</th>\n",
      "</tr>\n",
      "<tr>\n",
      "<td>Getting Started</td>\n",
      "<td>20</td>\n",
      "</tr>\n",
      "<tr>\n",
      "<td>Setting up the Environment</td>\n",
      "<td>40</td>\n",
      "</tr>\n",
      "<tr>\n",
      "<td>Extracting Data</td>\n",
      "<td>35</td>\n",
      "</tr>\n",
      "<tr>\n",
      "<td>Exploring and Processing Data - Part 1</td>\n",
      "<td>45</td>\n",
      "</tr>\n",
      "<tr>\n",
      "<td>Building Predictive Model</td>\n",
      "<td>30</td>\n",
      "</tr>\n",
      "</table>\n",
      "</body>\n",
      "</html>\n",
      "\n"
     ]
    }
   ],
   "source": [
    "print(ps)"
   ]
  },
  {
   "cell_type": "code",
   "execution_count": 17,
   "metadata": {
    "collapsed": true
   },
   "outputs": [],
   "source": [
    "# select only tag name\n",
    "# only return first child\n",
    "body = ps.find(name='body')"
   ]
  },
  {
   "cell_type": "code",
   "execution_count": 18,
   "metadata": {
    "collapsed": false
   },
   "outputs": [
    {
     "name": "stdout",
     "output_type": "stream",
     "text": [
      "<body>\n",
      "<h1 style=\"color:#f15b2a;\">Doing Data Science With Python</h1>\n",
      "<div id=\"author\">Author : Adnan Rahman</div>\n",
      "<div id=\"description\">Python helps you to perform various data science</div>\n",
      "<h3 style=\"color:#404040\">Modules</h3>\n",
      "<table id=\"module\" style=\"width:100%\">\n",
      "<tr>\n",
      "<th>Title</th>\n",
      "<th>Duration (In Minutes)</th>\n",
      "</tr>\n",
      "<tr>\n",
      "<td>Getting Started</td>\n",
      "<td>20</td>\n",
      "</tr>\n",
      "<tr>\n",
      "<td>Setting up the Environment</td>\n",
      "<td>40</td>\n",
      "</tr>\n",
      "<tr>\n",
      "<td>Extracting Data</td>\n",
      "<td>35</td>\n",
      "</tr>\n",
      "<tr>\n",
      "<td>Exploring and Processing Data - Part 1</td>\n",
      "<td>45</td>\n",
      "</tr>\n",
      "<tr>\n",
      "<td>Building Predictive Model</td>\n",
      "<td>30</td>\n",
      "</tr>\n",
      "</table>\n",
      "</body>\n"
     ]
    }
   ],
   "source": [
    "print(body)"
   ]
  },
  {
   "cell_type": "code",
   "execution_count": 19,
   "metadata": {
    "collapsed": false
   },
   "outputs": [
    {
     "name": "stdout",
     "output_type": "stream",
     "text": [
      "\n",
      "Doing Data Science With Python\n",
      "Author : Adnan Rahman\n",
      "Python helps you to perform various data science\n",
      "Modules\n",
      "\n",
      "\n",
      "Title\n",
      "Duration (In Minutes)\n",
      "\n",
      "\n",
      "Getting Started\n",
      "20\n",
      "\n",
      "\n",
      "Setting up the Environment\n",
      "40\n",
      "\n",
      "\n",
      "Extracting Data\n",
      "35\n",
      "\n",
      "\n",
      "Exploring and Processing Data - Part 1\n",
      "45\n",
      "\n",
      "\n",
      "Building Predictive Model\n",
      "30\n",
      "\n",
      "\n",
      "\n"
     ]
    }
   ],
   "source": [
    "print(body.text)"
   ]
  },
  {
   "cell_type": "code",
   "execution_count": 20,
   "metadata": {
    "collapsed": false
   },
   "outputs": [
    {
     "name": "stdout",
     "output_type": "stream",
     "text": [
      "\n",
      "Title\n",
      "Duration (In Minutes)\n",
      "\n",
      "\n",
      "Getting Started\n",
      "20\n",
      "\n",
      "\n",
      "Setting up the Environment\n",
      "40\n",
      "\n",
      "\n",
      "Extracting Data\n",
      "35\n",
      "\n",
      "\n",
      "Exploring and Processing Data - Part 1\n",
      "45\n",
      "\n",
      "\n",
      "Building Predictive Model\n",
      "30\n",
      "\n"
     ]
    }
   ],
   "source": [
    "# return all child\n",
    "tr = ps.findAll(name='tr')\n",
    "for i in tr: print(i.text)"
   ]
  },
  {
   "cell_type": "code",
   "execution_count": 22,
   "metadata": {
    "collapsed": false
   },
   "outputs": [
    {
     "name": "stdout",
     "output_type": "stream",
     "text": [
      "Getting Started 20\n",
      "Setting up the Environment 40\n",
      "Extracting Data 35\n",
      "Exploring and Processing Data - Part 1 45\n",
      "Building Predictive Model 30\n"
     ]
    }
   ],
   "source": [
    "module_table = ps.find(name='table', attrs={'id': 'module'})\n",
    "\n",
    "for row in module_table.findAll(name='tr')[1:]:\n",
    "    title = row.findAll(name='td')[0].text\n",
    "    duration = int(row.findAll(name='td')[1].text)\n",
    "    print (title, duration)"
   ]
  },
  {
   "cell_type": "code",
   "execution_count": null,
   "metadata": {
    "collapsed": true
   },
   "outputs": [],
   "source": []
  }
 ],
 "metadata": {
  "kernelspec": {
   "display_name": "Python 3",
   "language": "python",
   "name": "python3"
  },
  "language_info": {
   "codemirror_mode": {
    "name": "ipython",
    "version": 3
   },
   "file_extension": ".py",
   "mimetype": "text/x-python",
   "name": "python",
   "nbconvert_exporter": "python",
   "pygments_lexer": "ipython3",
   "version": "3.6.0"
  }
 },
 "nbformat": 4,
 "nbformat_minor": 2
}
