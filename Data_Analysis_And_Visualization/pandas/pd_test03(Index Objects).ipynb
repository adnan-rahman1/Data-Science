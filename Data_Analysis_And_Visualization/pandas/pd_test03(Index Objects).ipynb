{
 "cells": [
  {
   "cell_type": "code",
   "execution_count": 2,
   "metadata": {
    "collapsed": true
   },
   "outputs": [],
   "source": [
    "import numpy as np\n",
    "import pandas as pd\n",
    "from numpy.random import randn"
   ]
  },
  {
   "cell_type": "code",
   "execution_count": 19,
   "metadata": {
    "collapsed": true
   },
   "outputs": [],
   "source": [
    "my_ser = pd.Series([1, 2, 3, 4], index=['A', 'B', 'C', 'D'])"
   ]
  },
  {
   "cell_type": "code",
   "execution_count": 20,
   "metadata": {
    "collapsed": false
   },
   "outputs": [
    {
     "data": {
      "text/plain": [
       "A    1\n",
       "B    2\n",
       "C    3\n",
       "D    4\n",
       "dtype: int64"
      ]
     },
     "execution_count": 20,
     "metadata": {},
     "output_type": "execute_result"
    }
   ],
   "source": [
    "my_ser"
   ]
  },
  {
   "cell_type": "code",
   "execution_count": 21,
   "metadata": {
    "collapsed": false
   },
   "outputs": [
    {
     "data": {
      "text/plain": [
       "Index(['A', 'B', 'C', 'D'], dtype='object')"
      ]
     },
     "execution_count": 21,
     "metadata": {},
     "output_type": "execute_result"
    }
   ],
   "source": [
    "my_ser.index"
   ]
  },
  {
   "cell_type": "code",
   "execution_count": 22,
   "metadata": {
    "collapsed": false
   },
   "outputs": [
    {
     "data": {
      "text/plain": [
       "3"
      ]
     },
     "execution_count": 22,
     "metadata": {},
     "output_type": "execute_result"
    }
   ],
   "source": [
    "my_ser.loc['C']"
   ]
  },
  {
   "cell_type": "code",
   "execution_count": 23,
   "metadata": {
    "collapsed": false
   },
   "outputs": [
    {
     "data": {
      "text/plain": [
       "4"
      ]
     },
     "execution_count": 23,
     "metadata": {},
     "output_type": "execute_result"
    }
   ],
   "source": [
    "my_ser['D']"
   ]
  },
  {
   "cell_type": "code",
   "execution_count": 24,
   "metadata": {
    "collapsed": false
   },
   "outputs": [
    {
     "data": {
      "text/plain": [
       "4"
      ]
     },
     "execution_count": 24,
     "metadata": {},
     "output_type": "execute_result"
    }
   ],
   "source": [
    "my_ser.iloc[3] # it requres number"
   ]
  },
  {
   "cell_type": "code",
   "execution_count": 25,
   "metadata": {
    "collapsed": true
   },
   "outputs": [],
   "source": [
    "series01 = pd.Series([1, 2, 3, 4], index=['A', 'B', 'C', 'D'])"
   ]
  },
  {
   "cell_type": "code",
   "execution_count": 26,
   "metadata": {
    "collapsed": false
   },
   "outputs": [
    {
     "data": {
      "text/plain": [
       "A    1\n",
       "B    2\n",
       "C    3\n",
       "D    4\n",
       "dtype: int64"
      ]
     },
     "execution_count": 26,
     "metadata": {},
     "output_type": "execute_result"
    }
   ],
   "source": [
    "series01"
   ]
  },
  {
   "cell_type": "code",
   "execution_count": 30,
   "metadata": {
    "collapsed": false
   },
   "outputs": [],
   "source": [
    "series02 = series01.reindex(['A', 'B', 'C', 'D', 'E', 'F'], fill_value = 0)"
   ]
  },
  {
   "cell_type": "code",
   "execution_count": 31,
   "metadata": {
    "collapsed": false
   },
   "outputs": [
    {
     "data": {
      "text/plain": [
       "A    1\n",
       "B    2\n",
       "C    3\n",
       "D    4\n",
       "E    0\n",
       "F    0\n",
       "dtype: int64"
      ]
     },
     "execution_count": 31,
     "metadata": {},
     "output_type": "execute_result"
    }
   ],
   "source": [
    "series02"
   ]
  },
  {
   "cell_type": "code",
   "execution_count": 3,
   "metadata": {
    "collapsed": false
   },
   "outputs": [],
   "source": [
    "series03 = pd.Series(['USA', 'UK', 'Bangladesh', 'Russia'], index=[1, 3, 6, 9])"
   ]
  },
  {
   "cell_type": "code",
   "execution_count": 4,
   "metadata": {
    "collapsed": false
   },
   "outputs": [
    {
     "data": {
      "text/plain": [
       "1           USA\n",
       "3            UK\n",
       "6    Bangladesh\n",
       "9        Russia\n",
       "dtype: object"
      ]
     },
     "execution_count": 4,
     "metadata": {},
     "output_type": "execute_result"
    }
   ],
   "source": [
    "series03"
   ]
  },
  {
   "cell_type": "code",
   "execution_count": 6,
   "metadata": {
    "collapsed": false
   },
   "outputs": [
    {
     "data": {
      "text/plain": [
       "0            NaN\n",
       "1            USA\n",
       "2            USA\n",
       "3             UK\n",
       "4             UK\n",
       "5             UK\n",
       "6     Bangladesh\n",
       "7     Bangladesh\n",
       "8     Bangladesh\n",
       "9         Russia\n",
       "10        Russia\n",
       "11        Russia\n",
       "12        Russia\n",
       "13        Russia\n",
       "dtype: object"
      ]
     },
     "execution_count": 6,
     "metadata": {},
     "output_type": "execute_result"
    }
   ],
   "source": [
    "series03.reindex(range(14), method='ffill')"
   ]
  },
  {
   "cell_type": "code",
   "execution_count": 25,
   "metadata": {
    "collapsed": false
   },
   "outputs": [],
   "source": [
    "series04 = pd.DataFrame(randn(25).reshape(5, 5), \n",
    "                        index=['A', 'B', 'D', 'E', 'F'], \n",
    "                        columns=['col1', 'col2', 'col3', 'col4', 'col5'])"
   ]
  },
  {
   "cell_type": "code",
   "execution_count": 31,
   "metadata": {
    "collapsed": false
   },
   "outputs": [
    {
     "data": {
      "text/html": [
       "<div>\n",
       "<table border=\"1\" class=\"dataframe\">\n",
       "  <thead>\n",
       "    <tr style=\"text-align: right;\">\n",
       "      <th></th>\n",
       "      <th>col1</th>\n",
       "      <th>col2</th>\n",
       "      <th>col3</th>\n",
       "      <th>col4</th>\n",
       "      <th>col5</th>\n",
       "    </tr>\n",
       "  </thead>\n",
       "  <tbody>\n",
       "    <tr>\n",
       "      <th>A</th>\n",
       "      <td>-0.037136</td>\n",
       "      <td>0.687845</td>\n",
       "      <td>0.215994</td>\n",
       "      <td>0.038026</td>\n",
       "      <td>-1.055040</td>\n",
       "    </tr>\n",
       "    <tr>\n",
       "      <th>B</th>\n",
       "      <td>-0.559911</td>\n",
       "      <td>0.176727</td>\n",
       "      <td>0.846008</td>\n",
       "      <td>-0.014452</td>\n",
       "      <td>2.394612</td>\n",
       "    </tr>\n",
       "    <tr>\n",
       "      <th>D</th>\n",
       "      <td>-0.027123</td>\n",
       "      <td>-0.464966</td>\n",
       "      <td>-0.961391</td>\n",
       "      <td>-0.154072</td>\n",
       "      <td>0.454294</td>\n",
       "    </tr>\n",
       "    <tr>\n",
       "      <th>E</th>\n",
       "      <td>-0.694273</td>\n",
       "      <td>-0.451516</td>\n",
       "      <td>-0.109296</td>\n",
       "      <td>-1.809825</td>\n",
       "      <td>1.914986</td>\n",
       "    </tr>\n",
       "    <tr>\n",
       "      <th>F</th>\n",
       "      <td>1.103943</td>\n",
       "      <td>-0.945319</td>\n",
       "      <td>0.004869</td>\n",
       "      <td>1.362039</td>\n",
       "      <td>-0.767404</td>\n",
       "    </tr>\n",
       "  </tbody>\n",
       "</table>\n",
       "</div>"
      ],
      "text/plain": [
       "       col1      col2      col3      col4      col5\n",
       "A -0.037136  0.687845  0.215994  0.038026 -1.055040\n",
       "B -0.559911  0.176727  0.846008 -0.014452  2.394612\n",
       "D -0.027123 -0.464966 -0.961391 -0.154072  0.454294\n",
       "E -0.694273 -0.451516 -0.109296 -1.809825  1.914986\n",
       "F  1.103943 -0.945319  0.004869  1.362039 -0.767404"
      ]
     },
     "execution_count": 31,
     "metadata": {},
     "output_type": "execute_result"
    }
   ],
   "source": [
    "series04"
   ]
  },
  {
   "cell_type": "code",
   "execution_count": 32,
   "metadata": {
    "collapsed": false
   },
   "outputs": [
    {
     "data": {
      "text/html": [
       "<div>\n",
       "<table border=\"1\" class=\"dataframe\">\n",
       "  <thead>\n",
       "    <tr style=\"text-align: right;\">\n",
       "      <th></th>\n",
       "      <th>col1</th>\n",
       "      <th>col2</th>\n",
       "      <th>col3</th>\n",
       "      <th>col4</th>\n",
       "      <th>col5</th>\n",
       "    </tr>\n",
       "  </thead>\n",
       "  <tbody>\n",
       "    <tr>\n",
       "      <th>A</th>\n",
       "      <td>-0.037136</td>\n",
       "      <td>0.687845</td>\n",
       "      <td>0.215994</td>\n",
       "      <td>0.038026</td>\n",
       "      <td>-1.055040</td>\n",
       "    </tr>\n",
       "    <tr>\n",
       "      <th>B</th>\n",
       "      <td>-0.559911</td>\n",
       "      <td>0.176727</td>\n",
       "      <td>0.846008</td>\n",
       "      <td>-0.014452</td>\n",
       "      <td>2.394612</td>\n",
       "    </tr>\n",
       "    <tr>\n",
       "      <th>C</th>\n",
       "      <td>NaN</td>\n",
       "      <td>NaN</td>\n",
       "      <td>NaN</td>\n",
       "      <td>NaN</td>\n",
       "      <td>NaN</td>\n",
       "    </tr>\n",
       "    <tr>\n",
       "      <th>D</th>\n",
       "      <td>-0.027123</td>\n",
       "      <td>-0.464966</td>\n",
       "      <td>-0.961391</td>\n",
       "      <td>-0.154072</td>\n",
       "      <td>0.454294</td>\n",
       "    </tr>\n",
       "    <tr>\n",
       "      <th>E</th>\n",
       "      <td>-0.694273</td>\n",
       "      <td>-0.451516</td>\n",
       "      <td>-0.109296</td>\n",
       "      <td>-1.809825</td>\n",
       "      <td>1.914986</td>\n",
       "    </tr>\n",
       "    <tr>\n",
       "      <th>F</th>\n",
       "      <td>1.103943</td>\n",
       "      <td>-0.945319</td>\n",
       "      <td>0.004869</td>\n",
       "      <td>1.362039</td>\n",
       "      <td>-0.767404</td>\n",
       "    </tr>\n",
       "  </tbody>\n",
       "</table>\n",
       "</div>"
      ],
      "text/plain": [
       "       col1      col2      col3      col4      col5\n",
       "A -0.037136  0.687845  0.215994  0.038026 -1.055040\n",
       "B -0.559911  0.176727  0.846008 -0.014452  2.394612\n",
       "C       NaN       NaN       NaN       NaN       NaN\n",
       "D -0.027123 -0.464966 -0.961391 -0.154072  0.454294\n",
       "E -0.694273 -0.451516 -0.109296 -1.809825  1.914986\n",
       "F  1.103943 -0.945319  0.004869  1.362039 -0.767404"
      ]
     },
     "execution_count": 32,
     "metadata": {},
     "output_type": "execute_result"
    }
   ],
   "source": [
    "series05 = series04.reindex(['A', 'B', 'C', 'D', 'E', 'F'])\n",
    "series05"
   ]
  },
  {
   "cell_type": "code",
   "execution_count": 33,
   "metadata": {
    "collapsed": false
   },
   "outputs": [
    {
     "data": {
      "text/html": [
       "<div>\n",
       "<table border=\"1\" class=\"dataframe\">\n",
       "  <thead>\n",
       "    <tr style=\"text-align: right;\">\n",
       "      <th></th>\n",
       "      <th>col1</th>\n",
       "      <th>col2</th>\n",
       "      <th>col3</th>\n",
       "      <th>col4</th>\n",
       "      <th>col5</th>\n",
       "      <th>col6</th>\n",
       "    </tr>\n",
       "  </thead>\n",
       "  <tbody>\n",
       "    <tr>\n",
       "      <th>A</th>\n",
       "      <td>-0.037136</td>\n",
       "      <td>0.687845</td>\n",
       "      <td>0.215994</td>\n",
       "      <td>0.038026</td>\n",
       "      <td>-1.055040</td>\n",
       "      <td>NaN</td>\n",
       "    </tr>\n",
       "    <tr>\n",
       "      <th>B</th>\n",
       "      <td>-0.559911</td>\n",
       "      <td>0.176727</td>\n",
       "      <td>0.846008</td>\n",
       "      <td>-0.014452</td>\n",
       "      <td>2.394612</td>\n",
       "      <td>NaN</td>\n",
       "    </tr>\n",
       "    <tr>\n",
       "      <th>C</th>\n",
       "      <td>NaN</td>\n",
       "      <td>NaN</td>\n",
       "      <td>NaN</td>\n",
       "      <td>NaN</td>\n",
       "      <td>NaN</td>\n",
       "      <td>NaN</td>\n",
       "    </tr>\n",
       "    <tr>\n",
       "      <th>D</th>\n",
       "      <td>-0.027123</td>\n",
       "      <td>-0.464966</td>\n",
       "      <td>-0.961391</td>\n",
       "      <td>-0.154072</td>\n",
       "      <td>0.454294</td>\n",
       "      <td>NaN</td>\n",
       "    </tr>\n",
       "    <tr>\n",
       "      <th>E</th>\n",
       "      <td>-0.694273</td>\n",
       "      <td>-0.451516</td>\n",
       "      <td>-0.109296</td>\n",
       "      <td>-1.809825</td>\n",
       "      <td>1.914986</td>\n",
       "      <td>NaN</td>\n",
       "    </tr>\n",
       "    <tr>\n",
       "      <th>F</th>\n",
       "      <td>1.103943</td>\n",
       "      <td>-0.945319</td>\n",
       "      <td>0.004869</td>\n",
       "      <td>1.362039</td>\n",
       "      <td>-0.767404</td>\n",
       "      <td>NaN</td>\n",
       "    </tr>\n",
       "  </tbody>\n",
       "</table>\n",
       "</div>"
      ],
      "text/plain": [
       "       col1      col2      col3      col4      col5  col6\n",
       "A -0.037136  0.687845  0.215994  0.038026 -1.055040   NaN\n",
       "B -0.559911  0.176727  0.846008 -0.014452  2.394612   NaN\n",
       "C       NaN       NaN       NaN       NaN       NaN   NaN\n",
       "D -0.027123 -0.464966 -0.961391 -0.154072  0.454294   NaN\n",
       "E -0.694273 -0.451516 -0.109296 -1.809825  1.914986   NaN\n",
       "F  1.103943 -0.945319  0.004869  1.362039 -0.767404   NaN"
      ]
     },
     "execution_count": 33,
     "metadata": {},
     "output_type": "execute_result"
    }
   ],
   "source": [
    "series05.reindex(columns=['col1', 'col2', 'col3', 'col4', 'col5', 'col6'])"
   ]
  },
  {
   "cell_type": "code",
   "execution_count": 36,
   "metadata": {
    "collapsed": false
   },
   "outputs": [
    {
     "data": {
      "text/html": [
       "<div>\n",
       "<table border=\"1\" class=\"dataframe\">\n",
       "  <thead>\n",
       "    <tr style=\"text-align: right;\">\n",
       "      <th></th>\n",
       "      <th>col1</th>\n",
       "      <th>col2</th>\n",
       "      <th>col3</th>\n",
       "      <th>col4</th>\n",
       "      <th>col5</th>\n",
       "      <th>col6</th>\n",
       "    </tr>\n",
       "  </thead>\n",
       "  <tbody>\n",
       "    <tr>\n",
       "      <th>A</th>\n",
       "      <td>-0.037136</td>\n",
       "      <td>0.687845</td>\n",
       "      <td>0.215994</td>\n",
       "      <td>0.038026</td>\n",
       "      <td>-1.055040</td>\n",
       "      <td>NaN</td>\n",
       "    </tr>\n",
       "    <tr>\n",
       "      <th>B</th>\n",
       "      <td>-0.559911</td>\n",
       "      <td>0.176727</td>\n",
       "      <td>0.846008</td>\n",
       "      <td>-0.014452</td>\n",
       "      <td>2.394612</td>\n",
       "      <td>NaN</td>\n",
       "    </tr>\n",
       "    <tr>\n",
       "      <th>C</th>\n",
       "      <td>NaN</td>\n",
       "      <td>NaN</td>\n",
       "      <td>NaN</td>\n",
       "      <td>NaN</td>\n",
       "      <td>NaN</td>\n",
       "      <td>NaN</td>\n",
       "    </tr>\n",
       "    <tr>\n",
       "      <th>D</th>\n",
       "      <td>-0.027123</td>\n",
       "      <td>-0.464966</td>\n",
       "      <td>-0.961391</td>\n",
       "      <td>-0.154072</td>\n",
       "      <td>0.454294</td>\n",
       "      <td>NaN</td>\n",
       "    </tr>\n",
       "    <tr>\n",
       "      <th>E</th>\n",
       "      <td>-0.694273</td>\n",
       "      <td>-0.451516</td>\n",
       "      <td>-0.109296</td>\n",
       "      <td>-1.809825</td>\n",
       "      <td>1.914986</td>\n",
       "      <td>NaN</td>\n",
       "    </tr>\n",
       "    <tr>\n",
       "      <th>F</th>\n",
       "      <td>1.103943</td>\n",
       "      <td>-0.945319</td>\n",
       "      <td>0.004869</td>\n",
       "      <td>1.362039</td>\n",
       "      <td>-0.767404</td>\n",
       "      <td>NaN</td>\n",
       "    </tr>\n",
       "  </tbody>\n",
       "</table>\n",
       "</div>"
      ],
      "text/plain": [
       "       col1      col2      col3      col4      col5  col6\n",
       "A -0.037136  0.687845  0.215994  0.038026 -1.055040   NaN\n",
       "B -0.559911  0.176727  0.846008 -0.014452  2.394612   NaN\n",
       "C       NaN       NaN       NaN       NaN       NaN   NaN\n",
       "D -0.027123 -0.464966 -0.961391 -0.154072  0.454294   NaN\n",
       "E -0.694273 -0.451516 -0.109296 -1.809825  1.914986   NaN\n",
       "F  1.103943 -0.945319  0.004869  1.362039 -0.767404   NaN"
      ]
     },
     "execution_count": 36,
     "metadata": {},
     "output_type": "execute_result"
    }
   ],
   "source": [
    "series05.ix[['A', 'B', 'C', 'D', 'E', 'F'], ['col1', 'col2', 'col3', 'col4', 'col5', 'col6']]"
   ]
  },
  {
   "cell_type": "code",
   "execution_count": null,
   "metadata": {
    "collapsed": true
   },
   "outputs": [],
   "source": []
  }
 ],
 "metadata": {
  "kernelspec": {
   "display_name": "Python 3",
   "language": "python",
   "name": "python3"
  },
  "language_info": {
   "codemirror_mode": {
    "name": "ipython",
    "version": 3
   },
   "file_extension": ".py",
   "mimetype": "text/x-python",
   "name": "python",
   "nbconvert_exporter": "python",
   "pygments_lexer": "ipython3",
   "version": "3.6.0"
  }
 },
 "nbformat": 4,
 "nbformat_minor": 2
}
