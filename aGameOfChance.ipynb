{
 "cells": [
  {
   "cell_type": "markdown",
   "metadata": {},
   "source": [
    "## A Game of Chance\n",
    "\n",
    "You roll two six-sided dice, each with faces containing one, two, three, four, five and six spots, respectively.\n",
    "When the dice come to rest, the sum of the spot on the two upword faces is calculated. If the sum is 7 or 11 on\n",
    "the first roll, you win. If the sum is 2, 3, or 12 on the first roll (called \"craps\"), you lose (i.e., the \"house\" wins).\n",
    "if the sum is 4, 5, 6, 8, 9 or 10 on the first roll, that sum becomes your \"point.\" To win, you must continue rolling\n",
    "the dice until you \"make you point\" (i.e., roll that same point value). You lose by rolling a 7 before making your point."
   ]
  },
  {
   "cell_type": "code",
   "execution_count": 2,
   "metadata": {},
   "outputs": [],
   "source": [
    "import random"
   ]
  },
  {
   "cell_type": "code",
   "execution_count": 33,
   "metadata": {},
   "outputs": [],
   "source": [
    "def roll_dice():\n",
    "    \"\"\"Roll two dice and return their face\"\"\"\n",
    "    return [random.randrange(1, 7) for i in range(2)]\n",
    "\n",
    "def display_dice(dice):\n",
    "    \"\"\"display one roll of the two dice.\"\"\"\n",
    "    print(f'Player rolled {dice[0]} + {dice[1]} = {sum(dice)}')\n",
    "    \n",
    "def game_condition():\n",
    "    dice = roll_dice()\n",
    "    display_dice(dice)\n",
    "    point = sum(dice)\n",
    "\n",
    "    if point in (7, 11):\n",
    "        game_status = \"WON\"\n",
    "    elif point in (2, 3, 12):\n",
    "        game_status = \"LOST\"\n",
    "    else:\n",
    "        game_status = \"CONTINUE\"\n",
    "  \n",
    "    return [game_status, point]\n",
    "\n",
    "def play():\n",
    "    \"\"\"First roll of the dice\"\"\"\n",
    "    game_status, winningPoint = game_condition()\n",
    "    \n",
    "    print(f\"Game Status {game_status}\")\n",
    "    print(f\"Game Point {winningPoint}\\n\")\n",
    "  \n",
    "    while game_status == \"CONTINUE\":\n",
    "        _, point = game_condition()\n",
    "        if point == winningPoint:\n",
    "            game_status = \"WON\"\n",
    "        elif point == 7:\n",
    "            game_status = \"LOST\"\n",
    "    \n",
    "    return game_status"
   ]
  },
  {
   "cell_type": "code",
   "execution_count": 36,
   "metadata": {},
   "outputs": [
    {
     "name": "stdout",
     "output_type": "stream",
     "text": [
      "Player rolled 2 + 6 = 8\n",
      "Game Status CONTINUE\n",
      "Game Point 8\n",
      "\n",
      "Player rolled 4 + 2 = 6\n",
      "Player rolled 4 + 2 = 6\n",
      "Player rolled 2 + 2 = 4\n",
      "Player rolled 1 + 1 = 2\n",
      "Player rolled 2 + 5 = 7\n"
     ]
    },
    {
     "data": {
      "text/plain": [
       "'LOST'"
      ]
     },
     "execution_count": 36,
     "metadata": {},
     "output_type": "execute_result"
    }
   ],
   "source": [
    "play()"
   ]
  }
 ],
 "metadata": {
  "kernelspec": {
   "display_name": "Python 3",
   "language": "python",
   "name": "python3"
  },
  "language_info": {
   "codemirror_mode": {
    "name": "ipython",
    "version": 3
   },
   "file_extension": ".py",
   "mimetype": "text/x-python",
   "name": "python",
   "nbconvert_exporter": "python",
   "pygments_lexer": "ipython3",
   "version": "3.8.3"
  },
  "name": "aGameOfChance",
  "notebookId": 103637786582037
 },
 "nbformat": 4,
 "nbformat_minor": 1
}
