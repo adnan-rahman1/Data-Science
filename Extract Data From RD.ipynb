{
 "cells": [
  {
   "cell_type": "markdown",
   "metadata": {},
   "source": [
    "# SQLite Databse"
   ]
  },
  {
   "cell_type": "code",
   "execution_count": 1,
   "metadata": {
    "collapsed": true
   },
   "outputs": [],
   "source": [
    "import sqlite3"
   ]
  },
  {
   "cell_type": "markdown",
   "metadata": {},
   "source": [
    "### connection to database"
   ]
  },
  {
   "cell_type": "code",
   "execution_count": 2,
   "metadata": {
    "collapsed": false
   },
   "outputs": [],
   "source": [
    "connection = sqlite3.connect('classroomDB.db')\n",
    "connection.close()"
   ]
  },
  {
   "cell_type": "code",
   "execution_count": 3,
   "metadata": {
    "collapsed": false
   },
   "outputs": [],
   "source": [
    "# open connection\n",
    "connection = sqlite3.connect(\"classroomDB.db\")\n",
    "# open cursor\n",
    "cursor = connection.cursor()\n",
    "\n",
    "#query for creating table\n",
    "create_table = \"\"\"\n",
    "CREATE TABLE classroom (\n",
    "    student_id INTEGER PRIMARY KEY,\n",
    "    name VARCHAR(20),\n",
    "    gender CHAR(1),\n",
    "    physics_marks INTEGER,\n",
    "    chemistry_marks INTEGER,\n",
    "    mathematics_marks INTEGER\n",
    ");\n",
    "\"\"\"\n",
    "# execute query\n",
    "cursor.execute(create_table)\n",
    "# commit changes\n",
    "connection.commit()\n",
    "# close connection\n",
    "connection.close()"
   ]
  },
  {
   "cell_type": "markdown",
   "metadata": {
    "collapsed": true
   },
   "source": [
    "### insert data"
   ]
  },
  {
   "cell_type": "code",
   "execution_count": 8,
   "metadata": {
    "collapsed": false
   },
   "outputs": [],
   "source": [
    "# sample data\n",
    "classroom_data = [\n",
    "    (1, 'Raj', 'M', 70, 84, 92),\n",
    "    (2, 'Ponam', 'F', 87, 69, 93),\n",
    "    (3, 'Niki', 'F', 65, 83, 90),\n",
    "    (4, 'Rahul', 'M', 83, 76, 89)\n",
    "]\n",
    "\n",
    "# open connection\n",
    "connection = sqlite3.connect('classroomDB.db')\n",
    "# open cursor\n",
    "cursor = connection.cursor()\n",
    "# insert student record\n",
    "for student in classroom_data:\n",
    "    insert_statement = \"\"\"\n",
    "        INSERT INTO classroom (student_id, name, gender, physics_marks, chemistry_marks, mathematics_marks)\n",
    "        VALUES ({0}, \"{1}\", \"{2}\", {3}, {4}, {5});\n",
    "    \"\"\".format(student[0], student[1], student[2], student[3], student[4], student[5])\n",
    "    \n",
    "    # execute insert query\n",
    "    cursor.execute(insert_statement)\n",
    "\n",
    "# commit changes\n",
    "connection.commit()\n",
    "# close connection\n",
    "connection.close()"
   ]
  },
  {
   "cell_type": "code",
   "execution_count": 10,
   "metadata": {
    "collapsed": false
   },
   "outputs": [
    {
     "name": "stdout",
     "output_type": "stream",
     "text": [
      "(1, 'Raj', 'M', 70, 84, 92)\n",
      "(2, 'Ponam', 'F', 87, 69, 93)\n",
      "(3, 'Niki', 'F', 65, 83, 90)\n",
      "(4, 'Rahul', 'M', 83, 76, 89)\n"
     ]
    }
   ],
   "source": [
    "connection = sqlite3.connect('classroomDB.db')\n",
    "cursor = connection.cursor()\n",
    "query = \"SELECT * FROM classroom\"\n",
    "cursor.execute(query)\n",
    "results = cursor.fetchall()\n",
    "for result in results:\n",
    "    print(result)\n",
    "\n",
    "connection.commit()\n",
    "connection.close()"
   ]
  },
  {
   "cell_type": "markdown",
   "metadata": {},
   "source": [
    "### MySQL Database"
   ]
  },
  {
   "cell_type": "code",
   "execution_count": 14,
   "metadata": {
    "collapsed": false
   },
   "outputs": [],
   "source": [
    "import pymysql\n",
    "# connection details\n",
    "\n",
    "con = { \n",
    "        'host': 'localhost', \n",
    "        'username': 'root',\n",
    "        'password': '',\n",
    "        'db': 'classroomDB'\n",
    "      }\n",
    "\n",
    "# connect to the database\n",
    "connection = pymysql.connect(con['host'], con['username'], con['password'], con['db'])\n",
    "connection.close()\n"
   ]
  },
  {
   "cell_type": "code",
   "execution_count": 15,
   "metadata": {
    "collapsed": true
   },
   "outputs": [],
   "source": [
    "connection = pymysql.connect(con['host'], con['username'], con['password'], con['db'])\n",
    "cursor = connection.cursor()\n",
    "\n",
    "#query for creating table\n",
    "create_table = \"\"\"\n",
    "CREATE TABLE classroom (\n",
    "    student_id INTEGER PRIMARY KEY,\n",
    "    name VARCHAR(20),\n",
    "    gender CHAR(1),\n",
    "    physics_marks INTEGER,\n",
    "    chemistry_marks INTEGER,\n",
    "    mathematics_marks INTEGER\n",
    ");\n",
    "\"\"\"\n",
    "# execute query\n",
    "cursor.execute(create_table)\n",
    "# commit changes\n",
    "connection.commit()\n",
    "# close connection\n",
    "connection.close()\n"
   ]
  },
  {
   "cell_type": "code",
   "execution_count": 16,
   "metadata": {
    "collapsed": true
   },
   "outputs": [],
   "source": [
    "classroom_data = [\n",
    "    (1, 'Raj', 'M', 70, 84, 92),\n",
    "    (2, 'Ponam', 'F', 87, 69, 93),\n",
    "    (3, 'Niki', 'F', 65, 83, 90),\n",
    "    (4, 'Rahul', 'M', 83, 76, 89)\n",
    "]\n",
    "\n",
    "# open connection\n",
    "connection = pymysql.connect(con['host'], con['username'], con['password'], con['db'])\n",
    "# open cursor\n",
    "cursor = connection.cursor()\n",
    "# insert student record\n",
    "for student in classroom_data:\n",
    "    insert_statement = \"\"\"\n",
    "        INSERT INTO classroom (student_id, name, gender, physics_marks, chemistry_marks, mathematics_marks)\n",
    "        VALUES ({0}, \"{1}\", \"{2}\", {3}, {4}, {5});\n",
    "    \"\"\".format(student[0], student[1], student[2], student[3], student[4], student[5])\n",
    "    \n",
    "    # execute insert query\n",
    "    cursor.execute(insert_statement)\n",
    "\n",
    "# commit changes\n",
    "connection.commit()\n",
    "# close connection\n",
    "connection.close()"
   ]
  },
  {
   "cell_type": "code",
   "execution_count": 18,
   "metadata": {
    "collapsed": false
   },
   "outputs": [
    {
     "name": "stdout",
     "output_type": "stream",
     "text": [
      "(1, 'Raj', 'M', 70, 84, 92)\n",
      "(2, 'Ponam', 'F', 87, 69, 93)\n",
      "(3, 'Niki', 'F', 65, 83, 90)\n",
      "(4, 'Rahul', 'M', 83, 76, 89)\n"
     ]
    }
   ],
   "source": [
    "connection = pymysql.connect(con['host'], con['username'], con['password'], con['db'])\n",
    "cursor = connection.cursor()\n",
    "query = \"SELECT * FROM classroom\"\n",
    "cursor.execute(query)\n",
    "results = cursor.fetchall()\n",
    "for result in results:\n",
    "    print(result)\n",
    "\n",
    "connection.commit()\n",
    "connection.close()"
   ]
  },
  {
   "cell_type": "code",
   "execution_count": null,
   "metadata": {
    "collapsed": true
   },
   "outputs": [],
   "source": []
  }
 ],
 "metadata": {
  "kernelspec": {
   "display_name": "Python 3",
   "language": "python",
   "name": "python3"
  },
  "language_info": {
   "codemirror_mode": {
    "name": "ipython",
    "version": 3
   },
   "file_extension": ".py",
   "mimetype": "text/x-python",
   "name": "python",
   "nbconvert_exporter": "python",
   "pygments_lexer": "ipython3",
   "version": "3.6.0"
  }
 },
 "nbformat": 4,
 "nbformat_minor": 2
}
